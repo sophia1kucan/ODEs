{
 "cells": [
  {
   "cell_type": "code",
   "execution_count": 3,
   "metadata": {},
   "outputs": [],
   "source": [
    "%reset -f\n",
    "import pandas\n",
    "import matplotlib as plt\n",
    "import numpy as np\n",
    "import scipy as sp\n",
    "import sympy as smp\n",
    "from scipy.optimize import brentq\n",
    "from scipy.integrate import quad\n",
    "from scipy.integrate import cumulative_trapezoid\n",
    "from sympy import *\n"
   ]
  },
  {
   "cell_type": "code",
   "execution_count": 53,
   "metadata": {},
   "outputs": [
    {
     "data": {
      "text/latex": [
       "$\\displaystyle \\left(\\frac{x}{2} + \\frac{1}{4 a}\\right) \\sqrt{4 a^{2} x^{2} + 4 a x + 2} + \\frac{\\operatorname{asinh}{\\left(2 a \\left(x + \\frac{1}{2 a}\\right) \\right)}}{4 a}$"
      ],
      "text/plain": [
       "(x/2 + 1/(4*a))*sqrt(4*a**2*x**2 + 4*a*x + 2) + asinh(2*a*(x + 1/(2*a)))/(4*a)"
      ]
     },
     "execution_count": 53,
     "metadata": {},
     "output_type": "execute_result"
    }
   ],
   "source": [
    "a, x = smp.symbols('a, x', real=True, positive=True)\n",
    "f = x + a*x**2\n",
    "\n",
    "d, d2 = smp.symbols('d, d2')\n",
    "d = smp.diff(f, x)\n",
    "d2 = smp.sqrt(1+d**2)\n",
    "\n",
    "smp.integrate(smp.sqrt(1+d**2), x)\n",
    "\n",
    "\n",
    "\n",
    "\n",
    "##smp.oo\n",
    "\n",
    "\n",
    "\n"
   ]
  },
  {
   "cell_type": "code",
   "execution_count": 29,
   "metadata": {},
   "outputs": [
    {
     "data": {
      "text/latex": [
       "$\\displaystyle \\sinh{\\left(u \\right)} + 1$"
      ],
      "text/plain": [
       "sinh(u) + 1"
      ]
     },
     "metadata": {},
     "output_type": "display_data"
    },
    {
     "data": {
      "text/latex": [
       "$\\displaystyle \\frac{\\cosh^{2}{\\left(u \\right)}}{2 a}$"
      ],
      "text/plain": [
       "cosh(u)**2/(2*a)"
      ]
     },
     "metadata": {},
     "output_type": "display_data"
    },
    {
     "data": {
      "text/latex": [
       "$\\displaystyle \\frac{- \\frac{u \\sinh^{2}{\\left(u \\right)}}{2} + \\frac{u \\cosh^{2}{\\left(u \\right)}}{2} + \\frac{\\sinh{\\left(u \\right)} \\cosh{\\left(u \\right)}}{2}}{2 a}$"
      ],
      "text/plain": [
       "(-u*sinh(u)**2/2 + u*cosh(u)**2/2 + sinh(u)*cosh(u)/2)/(2*a)"
      ]
     },
     "metadata": {},
     "output_type": "display_data"
    },
    {
     "data": {
      "text/latex": [
       "$\\displaystyle \\frac{- 2 a^{2} x^{2} \\operatorname{asinh}{\\left(2 a x \\right)} + a x \\sqrt{4 a^{2} x^{2} + 1} + \\frac{\\left(4 a^{2} x^{2} + 1\\right) \\operatorname{asinh}{\\left(2 a x \\right)}}{2}}{2 a}$"
      ],
      "text/plain": [
       "(-2*a**2*x**2*asinh(2*a*x) + a*x*sqrt(4*a**2*x**2 + 1) + (4*a**2*x**2 + 1)*asinh(2*a*x)/2)/(2*a)"
      ]
     },
     "metadata": {},
     "output_type": "display_data"
    },
    {
     "data": {
      "text/latex": [
       "$\\displaystyle \\frac{x \\sqrt{4 a^{2} x^{2} + 1}}{2} + \\frac{\\operatorname{asinh}{\\left(2 a x \\right)}}{4 a}$"
      ],
      "text/plain": [
       "x*sqrt(4*a**2*x**2 + 1)/2 + asinh(2*a*x)/(4*a)"
      ]
     },
     "metadata": {},
     "output_type": "display_data"
    }
   ],
   "source": [
    "a, x, u, g = symbols('a, x, u, g', real=True, positive=True)\n",
    "f = 1 + 2*a*x\n",
    "\n",
    "##using the u substitution \n",
    "\n",
    "g = f.subs(x,(1/(2*a)*sinh(u)))\n",
    "##for some reason the above line wouldn't substitue the value in for x unless I defined it as a new variable \n",
    "display(g)\n",
    "\n",
    "dx = 1/(2*a)*cosh(u)\n",
    "\n",
    "##Manually coding a variable dx with which to multiply through seemed like the best option - trying to code dx/du= --- \n",
    "##and then to get this to rearrange to the form dx = ---du seemed overly convoluted, also the integrate function in sympy \n",
    "##has inbuilt 'with respect to' into the second part of the parentheses, eliminating the need for du\n",
    "\n",
    "d = diff(g, u)\n",
    "d2 = sqrt(d**2)*dx\n",
    "simplify(d2)\n",
    "display(d2)\n",
    "##defining a variable that contains the function to be integrated as the square root of dx squared worked better than trying to\n",
    "##skip this step and integrate a really long function, which left many opportunities for error\n",
    "i = integrate(d2, u)\n",
    "display(i)\n",
    "i2 = i.subs(u, asinh(2*a*x))\n",
    "display(i2, simplify(i2)) \n"
   ]
  },
  {
   "cell_type": "code",
   "execution_count": 25,
   "metadata": {},
   "outputs": [
    {
     "data": {
      "text/plain": [
       "'The integral is defined for:'"
      ]
     },
     "metadata": {},
     "output_type": "display_data"
    },
    {
     "data": {
      "text/latex": [
       "$\\displaystyle x \\geq a$"
      ],
      "text/plain": [
       "x >= a"
      ]
     },
     "metadata": {},
     "output_type": "display_data"
    },
    {
     "data": {
      "text/latex": [
       "$\\displaystyle b \\geq y$"
      ],
      "text/plain": [
       "b >= y"
      ]
     },
     "metadata": {},
     "output_type": "display_data"
    }
   ],
   "source": [
    "a, x, y, b = symbols('a, x, y, b', real=True)\n",
    "f = a*x**3\n",
    "\n",
    "\n",
    "gfg = GreaterThan(x, a)\n",
    "gfg1 = GreaterThan(b, y)\n",
    "display('The integral is defined for:', gfg, gfg1)\n",
    "\n",
    "def arc_s(x, a):\n",
    "    return np.trapz(\n",
    "        np.sqrt(\n",
    "            1 + np.gradient(y[gfg1], x[gfg])\n",
    "        ) ** 2),\n"
   ]
  },
  {
   "cell_type": "code",
   "execution_count": 9,
   "metadata": {},
   "outputs": [
    {
     "data": {
      "text/latex": [
       "$\\displaystyle \\frac{\\sinh{\\left(u \\right)}}{2 a}$"
      ],
      "text/plain": [
       "sinh(u)/(2*a)"
      ]
     },
     "execution_count": 9,
     "metadata": {},
     "output_type": "execute_result"
    }
   ],
   "source": []
  },
  {
   "cell_type": "code",
   "execution_count": null,
   "metadata": {},
   "outputs": [],
   "source": []
  }
 ],
 "metadata": {
  "kernelspec": {
   "display_name": "jupyia",
   "language": "python",
   "name": "python3"
  },
  "language_info": {
   "codemirror_mode": {
    "name": "ipython",
    "version": 3
   },
   "file_extension": ".py",
   "mimetype": "text/x-python",
   "name": "python",
   "nbconvert_exporter": "python",
   "pygments_lexer": "ipython3",
   "version": "3.12.2"
  }
 },
 "nbformat": 4,
 "nbformat_minor": 2
}
