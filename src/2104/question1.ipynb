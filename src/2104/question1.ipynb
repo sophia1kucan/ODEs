{
 "cells": [
  {
   "cell_type": "markdown",
   "metadata": {},
   "source": [
    "### Recursive relationships\n",
    "Consider recursive relationshipa\n",
    "\n",
    "$$\n",
    "a_{n+2} = \\frac{a_n}{(n+1)(n+2)}-\\frac{n}{(n+2)}a_{n+1}, n>=0\n",
    "\n",
    "$$\n"
   ]
  },
  {
   "cell_type": "markdown",
   "metadata": {},
   "source": [
    "I dont know what this would be called? The function to compute each value in the sequence:"
   ]
  },
  {
   "cell_type": "code",
   "execution_count": 9,
   "metadata": {},
   "outputs": [],
   "source": [
    "def a_n2(an0:float, an1:float, n:int) -> float:\n",
    "    return an0/((n+1)*(n+2)) - n* an1/(n+2)"
   ]
  },
  {
   "cell_type": "markdown",
   "metadata": {},
   "source": [
    "Lets first implement the sequence function. This generates the sequence given $a_0, a_1, N$. First implementation is naive. It simply appends each value to an existing list - this is a relatively expensive process.\n",
    "_Sophia_: I have this a read and yes, of course. That initial code you has was right i think. Basically you are computing for n+2, given an n. so yea, you cant compute a0 and a1, as you would need n-2 and n-1 respectively ?"
   ]
  },
  {
   "cell_type": "code",
   "execution_count": null,
   "metadata": {},
   "outputs": [],
   "source": [
    "\n",
    "def generate_sequence(a_0:float, a_1:float, N:int) -> float :\n",
    "    result = [a_0, a_1]\n",
    "    a0, a1 = a_0, a_1\n",
    "    for n in range(0, N-2):\n",
    "        # compute an2, from current anm2, anm1 and n\n",
    "        a2 = a_n2(a0, a1, n)\n",
    "        # append it to the list\n",
    "        result.append(a2)\n",
    "        # move up a0, a1\n",
    "        a0 = a1\n",
    "        a1 = a2  \n",
    "    return result"
   ]
  },
  {
   "cell_type": "code",
   "execution_count": null,
   "metadata": {},
   "outputs": [],
   "source": []
  }
 ],
 "metadata": {
  "kernelspec": {
   "display_name": "sophia",
   "language": "python",
   "name": "python3"
  },
  "language_info": {
   "codemirror_mode": {
    "name": "ipython",
    "version": 3
   },
   "file_extension": ".py",
   "mimetype": "text/x-python",
   "name": "python",
   "nbconvert_exporter": "python",
   "pygments_lexer": "ipython3",
   "version": "3.13.0"
  }
 },
 "nbformat": 4,
 "nbformat_minor": 2
}
